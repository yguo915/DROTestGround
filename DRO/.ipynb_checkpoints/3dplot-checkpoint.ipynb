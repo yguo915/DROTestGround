{
 "cells": [
  {
   "cell_type": "markdown",
   "id": "7caabf45-4f45-473a-a4c2-fcc1020c71ba",
   "metadata": {},
   "source": [
    "# 3D plot of vascular structure in a voxel"
   ]
  },
  {
   "cell_type": "markdown",
   "id": "252e3051-8376-4085-9ff5-b2889d5a26d4",
   "metadata": {},
   "source": [
    "## 1. Set up environment"
   ]
  },
  {
   "cell_type": "markdown",
   "id": "05ec6e00-7517-4635-a348-a68c8ad84b8a",
   "metadata": {},
   "source": [
    "%matplotlib qt enables the interactive 3D plot. Change to %matplotlib inline for inline static plot."
   ]
  },
  {
   "cell_type": "code",
   "execution_count": 1,
   "id": "e64fe41c-0264-434a-8b1e-b06975a70d7c",
   "metadata": {},
   "outputs": [],
   "source": [
    "%matplotlib qt\n",
    "import DRO as dro\n",
    "import readf as readf\n",
    "import tissue_info as tissue_info\n",
    "import matplotlib.pyplot as plt\n",
    "from mpl_toolkits.mplot3d import Axes3D\n",
    "import numpy as np\n",
    "\n",
    "global tissue"
   ]
  },
  {
   "cell_type": "markdown",
   "id": "85a7b8cc-ed4a-4d34-89ab-7e6750a97760",
   "metadata": {},
   "source": [
    "## 2. Input the directory of the tissue sample(a .txt file)"
   ]
  },
  {
   "cell_type": "code",
   "execution_count": 2,
   "id": "e4d27632-8c76-43df-8656-431dede6913e",
   "metadata": {},
   "outputs": [],
   "source": [
    "dir = \"/Users/yijieguo/PycharmProjects/BNI_Summer2021/DROTestGround/tissue/tissueVpVcMets040857_65_65_65.txt\""
   ]
  },
  {
   "cell_type": "markdown",
   "id": "82a1db6a-723f-45a4-b2ea-0b69c60d4bb9",
   "metadata": {},
   "source": [
    "## 3. Store the tissue sample as a 3D matrix."
   ]
  },
  {
   "cell_type": "code",
   "execution_count": 3,
   "id": "4cb0e8a4-ebec-421d-b349-ff6424e652e6",
   "metadata": {},
   "outputs": [],
   "source": [
    "tissue_arr3D = readf.read_file(dir)\n",
    "tissue = dro.DRO(tissue_arr3D)"
   ]
  },
  {
   "cell_type": "markdown",
   "id": "cd64f065-91c2-40b5-a6c5-35ae4c69ed36",
   "metadata": {},
   "source": [
    "## 4. Get the vascular structure from the tissue sample."
   ]
  },
  {
   "cell_type": "code",
   "execution_count": 4,
   "id": "842d6a02-5f8b-4535-b93f-2157ee3d6df1",
   "metadata": {},
   "outputs": [],
   "source": [
    "vascular = tissue.get_vascular()"
   ]
  },
  {
   "cell_type": "markdown",
   "id": "853ae166-f21d-45fb-9c3c-c2798f85a27a",
   "metadata": {
    "tags": []
   },
   "source": [
    "## 5. Plot the vascular structure with interactive 3D plot."
   ]
  },
  {
   "cell_type": "code",
   "execution_count": 5,
   "id": "235426d0-f4b1-426d-8697-9d3b2be26e97",
   "metadata": {},
   "outputs": [
    {
     "data": {
      "text/plain": [
       "<mpl_toolkits.mplot3d.art3d.Path3DCollection at 0x7fd0d115c9d0>"
      ]
     },
     "execution_count": 5,
     "metadata": {},
     "output_type": "execute_result"
    }
   ],
   "source": [
    "z,x,y = vascular.nonzero()\n",
    "fig = plt.figure()\n",
    "ax = fig.add_subplot(111, projection='3d')   \n",
    "ax.scatter(x, y, z, zdir='z', c='blue')"
   ]
  }
 ],
 "metadata": {
  "kernelspec": {
   "display_name": "Python 3",
   "language": "python",
   "name": "python3"
  },
  "language_info": {
   "codemirror_mode": {
    "name": "ipython",
    "version": 3
   },
   "file_extension": ".py",
   "mimetype": "text/x-python",
   "name": "python",
   "nbconvert_exporter": "python",
   "pygments_lexer": "ipython3",
   "version": "3.7.10"
  }
 },
 "nbformat": 4,
 "nbformat_minor": 5
}
